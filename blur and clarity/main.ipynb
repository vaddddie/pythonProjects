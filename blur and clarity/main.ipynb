{
 "cells": [
  {
   "cell_type": "code",
   "execution_count": 21,
   "id": "5de3f789",
   "metadata": {},
   "outputs": [],
   "source": [
    "import cv2\n",
    "import random\n",
    "\n",
    "img = cv2.imread('pattern1.png', cv2.IMREAD_GRAYSCALE)"
   ]
  },
  {
   "cell_type": "code",
   "execution_count": 22,
   "id": "5b93282a",
   "metadata": {},
   "outputs": [],
   "source": [
    "# Pulse noise\n",
    "\n",
    "noise_share = 0.05\n",
    "\n",
    "def pulse_noise_generator():\n",
    "    global img\n",
    "    \n",
    "    for y in range(img.shape[0]):\n",
    "        for x in range(img.shape[1]):\n",
    "            if noise_share >= random.random():\n",
    "                img[y][x] = 255\n",
    "                \n",
    "    cv2.imshow('Output image', img)\n",
    "    cv2.waitKey(5000)\n",
    "    \n",
    "pulse_noise_generator()"
   ]
  },
  {
   "cell_type": "code",
   "execution_count": 18,
   "id": "f1acec9c",
   "metadata": {},
   "outputs": [],
   "source": [
    "# Salt-and-pepper noise\n",
    "\n",
    "noise_share = 0.05\n",
    "\n",
    "def salt_and_pepper_noise_generator():\n",
    "    global img\n",
    "    \n",
    "    for y in range(img.shape[0]):\n",
    "        for x in range(img.shape[1]):\n",
    "            if noise_share >= random.random():\n",
    "                img[y][x] = 0 if bool(random.getrandbits(1)) else 255\n",
    "                \n",
    "    cv2.imshow('Output image', img)\n",
    "    cv2.waitKey(5000)\n",
    "    \n",
    "salt_and_pepper_noise_generator()"
   ]
  },
  {
   "cell_type": "code",
   "execution_count": null,
   "id": "69dbb15c",
   "metadata": {},
   "outputs": [],
   "source": []
  }
 ],
 "metadata": {
  "kernelspec": {
   "display_name": "Python 3 (ipykernel)",
   "language": "python",
   "name": "python3"
  },
  "language_info": {
   "codemirror_mode": {
    "name": "ipython",
    "version": 3
   },
   "file_extension": ".py",
   "mimetype": "text/x-python",
   "name": "python",
   "nbconvert_exporter": "python",
   "pygments_lexer": "ipython3",
   "version": "3.10.6"
  }
 },
 "nbformat": 4,
 "nbformat_minor": 5
}
